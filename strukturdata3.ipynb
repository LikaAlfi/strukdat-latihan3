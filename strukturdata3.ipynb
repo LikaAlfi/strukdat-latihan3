{
  "nbformat": 4,
  "nbformat_minor": 0,
  "metadata": {
    "colab": {
      "provenance": [],
      "authorship_tag": "ABX9TyOhLQvYAayrzQOlkQ9UzvT5",
      "include_colab_link": true
    },
    "kernelspec": {
      "name": "python3",
      "display_name": "Python 3"
    },
    "language_info": {
      "name": "python"
    }
  },
  "cells": [
    {
      "cell_type": "markdown",
      "metadata": {
        "id": "view-in-github",
        "colab_type": "text"
      },
      "source": [
        "<a href=\"https://colab.research.google.com/github/LikaAlfi/strukdat-latihan3/blob/main/strukturdata3.ipynb\" target=\"_parent\"><img src=\"https://colab.research.google.com/assets/colab-badge.svg\" alt=\"Open In Colab\"/></a>"
      ]
    },
    {
      "cell_type": "code",
      "execution_count": null,
      "metadata": {
        "colab": {
          "base_uri": "https://localhost:8080/"
        },
        "id": "nwGNPGsiJgfn",
        "outputId": "4d1f3c5f-bfa8-4ea7-ff1d-8d97fa723299"
      },
      "outputs": [
        {
          "output_type": "stream",
          "name": "stdout",
          "text": [
            "[5]\n"
          ]
        }
      ],
      "source": [
        "class Stack:\n",
        "  def __init__(self):\n",
        "    self.stack = []\n",
        "\n",
        "  def push(self, item):\n",
        "    self.stack.append(item)\n",
        "\n",
        "# contoh pengggunaan\n",
        "s = Stack()\n",
        "s.push(5)\n",
        "print(s.stack) #output : (5)"
      ]
    },
    {
      "cell_type": "code",
      "source": [
        "class Stack:\n",
        "  def __init__(self):\n",
        "    self.stack = []\n",
        "\n",
        "  def push(self, item):\n",
        "    self.stack.append(item)\n",
        "\n",
        "  def pop(self):\n",
        "    if len(self.stack) == 0:\n",
        "      return \"Stack Kosong\"\n",
        "    return self.stack.pop()\n",
        "\n",
        "# contoh penggunaan\n",
        "s = Stack()\n",
        "s.push(5)\n",
        "s.push(10)\n",
        "print(s.pop()) # output: 10\n",
        "print(s.stack) # output : 5"
      ],
      "metadata": {
        "colab": {
          "base_uri": "https://localhost:8080/"
        },
        "id": "pWIPGqHpRujL",
        "outputId": "2157eba7-9a20-4863-bebf-30511763a6b0"
      },
      "execution_count": null,
      "outputs": [
        {
          "output_type": "stream",
          "name": "stdout",
          "text": [
            "10\n",
            "[5]\n"
          ]
        }
      ]
    },
    {
      "cell_type": "code",
      "source": [
        "class stack:\n",
        "  def __init__(self):\n",
        "    self.stack = []\n",
        "\n",
        "  def push(self, item):\n",
        "    self.stack.append(item)\n",
        "\n",
        "  def pop(self):\n",
        "    if len(self.stack) == 0:\n",
        "      return \"Stack Kosong\"\n",
        "    return self.stack.pop()\n",
        "\n",
        "  def peek(self):\n",
        "    if len(self.stacl) == 0:\n",
        "      return \"stack ksosng\"\n",
        "    return self.satck[-1]\n",
        "\n",
        "  # contoh penggunaan\n",
        "s = stack()\n",
        "s.push(5)\n",
        "s.push(10)\n",
        "print(s.pop()) # output: 10\n",
        "print(s.stack) # stack tetp[5, 10]"
      ],
      "metadata": {
        "colab": {
          "base_uri": "https://localhost:8080/"
        },
        "id": "qEq3K-VIS0yD",
        "outputId": "1583c435-a16a-4a39-d171-d2ba9cd3e437"
      },
      "execution_count": null,
      "outputs": [
        {
          "output_type": "stream",
          "name": "stdout",
          "text": [
            "10\n",
            "[5]\n"
          ]
        }
      ]
    },
    {
      "cell_type": "code",
      "source": [
        "class stack:\n",
        "  def __init__(self):\n",
        "    self.stack = []\n",
        "\n",
        "  def push(self, item):\n",
        "    self.stack.append(item)\n",
        "\n",
        "  def is_empty(self):\n",
        "    return len(self.stack) == 0\n",
        "\n",
        "# contoh penggunaan\n",
        "s = Stack()\n",
        "print(s.is_empty()) # output: True\n",
        "s.push(5)\n",
        "print(s.is_empty()) # output: False\n",
        "\n"
      ],
      "metadata": {
        "colab": {
          "base_uri": "https://localhost:8080/"
        },
        "id": "GZUQwivVWftl",
        "outputId": "8dbcbd24-c6d1-4f49-c0e8-84ff9105c4d5"
      },
      "execution_count": null,
      "outputs": [
        {
          "output_type": "stream",
          "name": "stdout",
          "text": [
            "True\n",
            "False\n"
          ]
        }
      ]
    },
    {
      "cell_type": "code",
      "source": [
        "class TextEditor:\n",
        "  def __init__(self):\n",
        "    self.history = []\n",
        "\n",
        "  def write(self, text):\n",
        "    self.history.append(text)\n",
        "\n",
        "  def undo(self):\n",
        "    if self.history:\n",
        "      return f\"undo: menghapus '{self.history.pop()}'\"\n",
        "    return \"tidak ada yang bisa di-undo\"\n",
        "\n",
        "# contoh penggunaan\n",
        "editor = TextEditor()\n",
        "editor.write(\"halo, ini teks pertama\")\n",
        "editor.write(\"ini teks kedua\")\n",
        "editor.write(\"ini teks ketiga\")\n",
        "\n",
        "print(editor.undo())\n",
        "print(editor.undo())"
      ],
      "metadata": {
        "colab": {
          "base_uri": "https://localhost:8080/"
        },
        "id": "EUEqOxwiYA3d",
        "outputId": "0939f6d3-311a-4892-b3bd-7822ed63f85f"
      },
      "execution_count": null,
      "outputs": [
        {
          "output_type": "stream",
          "name": "stdout",
          "text": [
            "undo: menghapus 'ini teks ketiga'\n",
            "undo: menghapus 'ini teks kedua'\n"
          ]
        }
      ]
    },
    {
      "cell_type": "code",
      "source": [
        "class UndoCalculator:\n",
        "    def __init__(self, initial_value):\n",
        "        self.stack = [initial_value]  # Memulai dengan angka awal dari NPM\n",
        "\n",
        "    def calculate(self, operation, number):\n",
        "        if operation == \"+\":\n",
        "            self.stack.append(self.stack[-1] + number)\n",
        "        elif operation == \"-\":\n",
        "            self.stack.append(self.stack[-1] - number)\n",
        "        elif operation == \"*\":\n",
        "            self.stack.append(self.stack[-1] * number)\n",
        "        elif operation == \"/\":\n",
        "            if number != 0:\n",
        "                self.stack.append(self.stack[-1] / number)\n",
        "            else:\n",
        "                print(\"Error: Tidak bisa dibagi dengan nol!\")\n",
        "        else:\n",
        "            print(\"Operasi tidak valid!\")\n",
        "\n",
        "    def undo(self):\n",
        "        if len(self.stack) > 1:\n",
        "            self.stack.pop()\n",
        "        else:\n",
        "            print(\"Tidak ada yang bisa di-undo!\")\n",
        "\n",
        "    def get_result(self):\n",
        "        return self.stack[-1]\n",
        "\n",
        "# Contoh penggunaan dengan dua digit terakhir NPM = 10\n",
        "calculator = UndoCalculator(10)\n",
        "\n",
        "calculator.calculate(\"+\", 5)  # 10 + 5 = 15\n",
        "calculator.calculate(\"*\", 2)  # 15 * 2 = 30\n",
        "calculator.calculate(\"-\", 4)  # 30 - 4 = 26\n",
        "\n",
        "print(\"Hasil sebelum undo:\", calculator.get_result())  # Output: 26\n",
        "\n",
        "calculator.undo()\n",
        "print(\"Hasil setelah undo:\", calculator.get_result())  # Output: 30\n"
      ],
      "metadata": {
        "id": "dtMI0mOXaoBe",
        "colab": {
          "base_uri": "https://localhost:8080/"
        },
        "outputId": "64042e59-41d8-4431-a0e2-9aff011db586"
      },
      "execution_count": null,
      "outputs": [
        {
          "output_type": "stream",
          "name": "stdout",
          "text": [
            "Hasil sebelum undo: 26\n",
            "Hasil setelah undo: 30\n"
          ]
        }
      ]
    },
    {
      "cell_type": "code",
      "source": [
        "from os import uname_result\n",
        "from collections import deque\n",
        "\n",
        "class BrowserHistory:\n",
        "  def __init__(self):\n",
        "    self.history = deque()\n",
        "\n",
        "  def visit(self, url):\n",
        "    self.history.append(url)\n",
        "    print(f\"menginjungi : {url}\")\n",
        "\n",
        "  def back(self):\n",
        "    if self.history:\n",
        "      print(f\"kembali ke : {self.history.pop()}\")\n",
        "    else:\n",
        "      print(\"tidak ada riwayat!\")\n",
        "\n",
        "# contoh penggunaan\n",
        "browser = BrowserHistory()\n",
        "browser.visit(\"google.com\")\n",
        "browser.visit(\"youtube.com\")\n",
        "browser.visit(\"github.com\")\n",
        "\n",
        "browser.back()\n",
        "browser.back()\n",
        "\n"
      ],
      "metadata": {
        "colab": {
          "base_uri": "https://localhost:8080/"
        },
        "id": "vuJij1Dea9rm",
        "outputId": "42137ae0-6cef-4d3c-c26e-5b05308e31e2"
      },
      "execution_count": null,
      "outputs": [
        {
          "output_type": "stream",
          "name": "stdout",
          "text": [
            "menginjungi : google.com\n",
            "menginjungi : youtube.com\n",
            "menginjungi : github.com\n",
            "kembali ke : github.com\n",
            "kembali ke : youtube.com\n"
          ]
        }
      ]
    },
    {
      "cell_type": "code",
      "source": [
        "# latihan 2\n",
        "class HistoryApp:\n",
        "    def __init__(self):\n",
        "        self.history = []\n",
        "\n",
        "    def visit_feature(self, feature):\n",
        "        self.history.append(feature)  # Simpan fitur ke dalam stack\n",
        "        print(f\"Fitur '{feature}' dikunjungi.\")\n",
        "\n",
        "    def go_back(self):\n",
        "        if self.history:\n",
        "            last_feature = self.history.pop()  # Ambil fitur terakhir yang dikunjungi\n",
        "            print(f\"Kembali ke fitur sebelumnya: {last_feature}\")\n",
        "        else:\n",
        "            print(\"Tidak ada riwayat yang bisa dikembalikan.\")\n",
        "\n",
        "# Contoh Penggunaan\n",
        "app = HistoryApp()\n",
        "app.visit_feature(\"Profil\")\n",
        "app.visit_feature(\"Pengaturan\")\n",
        "app.visit_feature(\"Beranda\")\n",
        "app.go_back()\n",
        "app.go_back()\n",
        "app.go_back()\n"
      ],
      "metadata": {
        "id": "koQcpiB9dmgQ",
        "colab": {
          "base_uri": "https://localhost:8080/"
        },
        "outputId": "b189a1e9-ea33-4d73-e3c4-fad8e33774d7"
      },
      "execution_count": null,
      "outputs": [
        {
          "output_type": "stream",
          "name": "stdout",
          "text": [
            "Fitur 'Profil' dikunjungi.\n",
            "Fitur 'Pengaturan' dikunjungi.\n",
            "Fitur 'Beranda' dikunjungi.\n",
            "Kembali ke fitur sebelumnya: Beranda\n",
            "Kembali ke fitur sebelumnya: Pengaturan\n",
            "Kembali ke fitur sebelumnya: Profil\n"
          ]
        }
      ]
    },
    {
      "cell_type": "code",
      "source": [
        "from queue import LifoQueue\n",
        "\n",
        "class BackupSystem:\n",
        "  def __init__(self):\n",
        "    self.backups = LifoQueue()\n",
        "\n",
        "  def backup(self, version):\n",
        "    self.backups.put(version)\n",
        "\n",
        "  def latest_backup(self):\n",
        "    if not self.backups.empty():\n",
        "      return f\"versi terbaru: (self.backups.queue[-1])\"\n",
        "    return \"tidak ada cadangan!\"\n",
        "\n",
        "# cobtoh penggunaaan\n",
        "backup_system = BackupSystem()\n",
        "backup_system.backup(\"Backup_1\")\n",
        "backup_system.backup(\"Backup_2\")\n",
        "backup_system.backup(\"Backup_3\")\n",
        "\n",
        "print(backup_system.latest_backup())"
      ],
      "metadata": {
        "id": "FBTixKvFdukI",
        "colab": {
          "base_uri": "https://localhost:8080/"
        },
        "outputId": "49a5f585-6908-4388-c937-e9a1cae7775c"
      },
      "execution_count": null,
      "outputs": [
        {
          "output_type": "stream",
          "name": "stdout",
          "text": [
            "versi terbaru: (self.backups.queue[-1])\n"
          ]
        }
      ]
    },
    {
      "cell_type": "code",
      "source": [
        "# latihan 3\n",
        "class BackupSystem:\n",
        "    def __init__(self):\n",
        "        self.backups = []\n",
        "\n",
        "    def backup(self, version):\n",
        "        self.backups.append(version)\n",
        "        print(f\"File '{version}' berhasil dicadangkan.\")\n",
        "\n",
        "    def latest_backup(self):\n",
        "        if self.backups:\n",
        "            print(f\"Versi terbaru dari file: {self.backups[-1]}\")\n",
        "        else:\n",
        "            print(\"Tidak ada file cadangan yang tersedia.\")\n",
        "\n",
        "# Contoh Penggunaan\n",
        "backup_system = BackupSystem()\n",
        "backup_system.backup(\"Backup_1\")\n",
        "backup_system.backup(\"Backup_2\")\n",
        "backup_system.backup(\"Backup_3\")\n",
        "backup_system.latest_backup()\n"
      ],
      "metadata": {
        "id": "ev48vpGxjOvi",
        "colab": {
          "base_uri": "https://localhost:8080/"
        },
        "outputId": "1fd6c6cd-000b-44d0-8644-88c01a89ce81"
      },
      "execution_count": null,
      "outputs": [
        {
          "output_type": "stream",
          "name": "stdout",
          "text": [
            "File 'Backup_1' berhasil dicadangkan.\n",
            "File 'Backup_2' berhasil dicadangkan.\n",
            "File 'Backup_3' berhasil dicadangkan.\n",
            "Versi terbaru dari file: Backup_3\n"
          ]
        }
      ]
    },
    {
      "cell_type": "code",
      "source": [
        "class CustomerService:\n",
        "  def __init__(self):\n",
        "    self.tickets = []\n",
        "\n",
        "  def add_ticket(self, ticket):\n",
        "    self.tickets.append(ticket)\n",
        "\n",
        "  def process_ticket(self):\n",
        "    if not self.is_empty():\n",
        "      return f\"memproses tiket: {self.tickets.pop()}\"\n",
        "    return \"tidak ada tiket yang harus diproses\"\n",
        "\n",
        "  def is_empty(self):\n",
        "    return len(self.tickets) == 0\n",
        "\n",
        "# contoh penggunaan\n",
        "service =  CustomerService()\n",
        "service.add_ticket(\"tiket 001\")\n",
        "service.add_ticket(\"tiket 002\")\n",
        "\n",
        "print(service.process_ticket())\n",
        "print(service.is_empty())"
      ],
      "metadata": {
        "colab": {
          "base_uri": "https://localhost:8080/"
        },
        "id": "EoTx6mVKlvWr",
        "outputId": "c480472e-beee-4ed5-d9e6-6a632c651704"
      },
      "execution_count": null,
      "outputs": [
        {
          "output_type": "stream",
          "name": "stdout",
          "text": [
            "memproses tiket: tiket 002\n",
            "False\n"
          ]
        }
      ]
    },
    {
      "cell_type": "code",
      "source": [
        "# latihan 4\n",
        "class TicketQueue:\n",
        "    def __init__(self):\n",
        "        self.tickets = []\n",
        "\n",
        "    def add_ticket(self, ticket):\n",
        "        self.tickets.append(ticket)\n",
        "        print(f\"Tiket '{ticket}' berhasil dibeli.\")\n",
        "\n",
        "    def process_ticket(self):\n",
        "        if self.tickets:\n",
        "            last_ticket = self.tickets.pop()\n",
        "            print(f\"Tiket '{last_ticket}' sedang diproses.\")\n",
        "        else:\n",
        "            print(\"Tidak ada tiket yang harus diproses.\")\n",
        "\n",
        "# Contoh Penggunaan\n",
        "queue = TicketQueue()\n",
        "queue.add_ticket(\"Never Let Me Go\")\n",
        "queue.add_ticket(\"Bad Buddy\")\n",
        "queue.add_ticket(\"We Are\")\n",
        "queue.process_ticket()\n",
        "queue.process_ticket()\n",
        "queue.process_ticket()\n"
      ],
      "metadata": {
        "id": "shyqaLQvnPZK",
        "colab": {
          "base_uri": "https://localhost:8080/"
        },
        "outputId": "a446284b-ae45-4f2c-b0b0-432afc129bc6"
      },
      "execution_count": 2,
      "outputs": [
        {
          "output_type": "stream",
          "name": "stdout",
          "text": [
            "Tiket 'Never Let Me Go' berhasil dibeli.\n",
            "Tiket 'Bad Buddy' berhasil dibeli.\n",
            "Tiket 'We Are' berhasil dibeli.\n",
            "Tiket 'We Are' sedang diproses.\n",
            "Tiket 'Bad Buddy' sedang diproses.\n",
            "Tiket 'Never Let Me Go' sedang diproses.\n"
          ]
        }
      ]
    }
  ]
}